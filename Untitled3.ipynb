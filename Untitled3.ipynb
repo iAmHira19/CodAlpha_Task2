{
  "nbformat": 4,
  "nbformat_minor": 0,
  "metadata": {
    "colab": {
      "provenance": [],
      "authorship_tag": "ABX9TyPSgDG5XxUZAUvNWlPcNwqt",
      "include_colab_link": true
    },
    "kernelspec": {
      "name": "python3",
      "display_name": "Python 3"
    },
    "language_info": {
      "name": "python"
    }
  },
  "cells": [
    {
      "cell_type": "markdown",
      "metadata": {
        "id": "view-in-github",
        "colab_type": "text"
      },
      "source": [
        "<a href=\"https://colab.research.google.com/github/iAmHira19/CodAlpha_Task2/blob/main/Untitled3.ipynb\" target=\"_parent\"><img src=\"https://colab.research.google.com/assets/colab-badge.svg\" alt=\"Open In Colab\"/></a>"
      ]
    },
    {
      "cell_type": "code",
      "execution_count": null,
      "metadata": {
        "colab": {
          "base_uri": "https://localhost:8080/"
        },
        "id": "5DO5OCzaZ4Lx",
        "outputId": "957ab6b8-5087-461d-b30d-8db9ee659dd0"
      },
      "outputs": [
        {
          "output_type": "stream",
          "name": "stdout",
          "text": [
            "Logistic Regression\n",
            "Accuracy: 0.929\n",
            "Precision: 0.0\n",
            "Recall: 0.0\n",
            "F1 Score: 0.0\n",
            "ROC AUC Score: 0.48821616458709194\n"
          ]
        },
        {
          "output_type": "stream",
          "name": "stderr",
          "text": [
            "/usr/local/lib/python3.10/dist-packages/sklearn/metrics/_classification.py:1471: UndefinedMetricWarning: Precision is ill-defined and being set to 0.0 due to no predicted samples. Use `zero_division` parameter to control this behavior.\n",
            "  _warn_prf(average, modifier, msg_start, len(result))\n"
          ]
        },
        {
          "output_type": "stream",
          "name": "stdout",
          "text": [
            "Random Forest\n",
            "Accuracy: 0.929\n",
            "Precision: 0.0\n",
            "Recall: 0.0\n",
            "F1 Score: 0.0\n",
            "ROC AUC Score: 0.48753392258827455\n"
          ]
        },
        {
          "output_type": "stream",
          "name": "stderr",
          "text": [
            "/usr/local/lib/python3.10/dist-packages/sklearn/metrics/_classification.py:1471: UndefinedMetricWarning: Precision is ill-defined and being set to 0.0 due to no predicted samples. Use `zero_division` parameter to control this behavior.\n",
            "  _warn_prf(average, modifier, msg_start, len(result))\n"
          ]
        },
        {
          "output_type": "stream",
          "name": "stdout",
          "text": [
            "Gradient Boosting\n",
            "Accuracy: 0.928\n",
            "Precision: 0.0\n",
            "Recall: 0.0\n",
            "F1 Score: 0.0\n",
            "ROC AUC Score: 0.509267120483937\n",
            "Classification Report:\n",
            "               precision    recall  f1-score   support\n",
            "\n",
            "           0       0.93      1.00      0.96      1858\n",
            "           1       0.00      0.00      0.00       142\n",
            "\n",
            "    accuracy                           0.93      2000\n",
            "   macro avg       0.46      0.50      0.48      2000\n",
            "weighted avg       0.86      0.93      0.89      2000\n",
            "\n",
            "Confusion Matrix:\n",
            " [[1856    2]\n",
            " [ 142    0]]\n"
          ]
        }
      ],
      "source": [
        "import pandas as pd\n",
        "import numpy as np\n",
        "\n",
        "# Define the column names based on the assumed data dictionary\n",
        "columns = [\n",
        "    'SeriousDlqin2yrs', 'RevolvingUtilizationOfUnsecuredLines', 'age',\n",
        "    'NumberOfTime30-59DaysPastDueNotWorse', 'DebtRatio', 'MonthlyIncome',\n",
        "    'NumberOfOpenCreditLinesAndLoans', 'NumberOfTimes90DaysLate',\n",
        "    'NumberRealEstateLoansOrLines', 'NumberOfTime60-89DaysPastDueNotWorse',\n",
        "    'NumberOfDependents'\n",
        "]\n",
        "\n",
        "# Create a synthetic dataset\n",
        "np.random.seed(42)\n",
        "n_samples = 10000\n",
        "data = pd.DataFrame({\n",
        "    'SeriousDlqin2yrs': np.random.binomial(1, 0.07, n_samples),\n",
        "    'RevolvingUtilizationOfUnsecuredLines': np.random.exponential(1, n_samples),\n",
        "    'age': np.random.randint(21, 90, n_samples),\n",
        "    'NumberOfTime30-59DaysPastDueNotWorse': np.random.poisson(0.5, n_samples),\n",
        "    'DebtRatio': np.random.exponential(0.5, n_samples),\n",
        "    'MonthlyIncome': np.random.normal(5000, 2000, n_samples),\n",
        "    'NumberOfOpenCreditLinesAndLoans': np.random.poisson(3, n_samples),\n",
        "    'NumberOfTimes90DaysLate': np.random.poisson(0.2, n_samples),\n",
        "    'NumberRealEstateLoansOrLines': np.random.poisson(1, n_samples),\n",
        "    'NumberOfTime60-89DaysPastDueNotWorse': np.random.poisson(0.3, n_samples),\n",
        "    'NumberOfDependents': np.random.poisson(1.5, n_samples)\n",
        "})\n",
        "\n",
        "data['MonthlyIncome'] = data['MonthlyIncome'].clip(lower=0)\n",
        "data['RevolvingUtilizationOfUnsecuredLines'] = data['RevolvingUtilizationOfUnsecuredLines'].clip(upper=10)\n",
        "data.head()\n",
        "from sklearn.model_selection import train_test_split\n",
        "from sklearn.preprocessing import StandardScaler\n",
        "\n",
        "# Feature scaling\n",
        "scaler = StandardScaler()\n",
        "features = [\n",
        "    'RevolvingUtilizationOfUnsecuredLines', 'age', 'NumberOfTime30-59DaysPastDueNotWorse',\n",
        "    'DebtRatio', 'MonthlyIncome', 'NumberOfOpenCreditLinesAndLoans', 'NumberOfTimes90DaysLate',\n",
        "    'NumberRealEstateLoansOrLines', 'NumberOfTime60-89DaysPastDueNotWorse', 'NumberOfDependents'\n",
        "]\n",
        "data[features] = scaler.fit_transform(data[features])\n",
        "\n",
        "# Split data into training and testing sets\n",
        "X = data[features]\n",
        "y = data['SeriousDlqin2yrs']\n",
        "X_train, X_test, y_train, y_test = train_test_split(X, y, test_size=0.2, random_state=42)\n",
        "from sklearn.linear_model import LogisticRegression\n",
        "from sklearn.metrics import accuracy_score, precision_score, recall_score, f1_score, roc_auc_score\n",
        "\n",
        "# Logistic Regression\n",
        "log_reg = LogisticRegression()\n",
        "log_reg.fit(X_train, y_train)\n",
        "y_pred_log_reg = log_reg.predict(X_test)\n",
        "\n",
        "# Evaluation\n",
        "print(\"Logistic Regression\")\n",
        "print(\"Accuracy:\", accuracy_score(y_test, y_pred_log_reg))\n",
        "print(\"Precision:\", precision_score(y_test, y_pred_log_reg))\n",
        "print(\"Recall:\", recall_score(y_test, y_pred_log_reg))\n",
        "print(\"F1 Score:\", f1_score(y_test, y_pred_log_reg))\n",
        "print(\"ROC AUC Score:\", roc_auc_score(y_test, log_reg.predict_proba(X_test)[:, 1]))\n",
        "\n",
        "from sklearn.ensemble import RandomForestClassifier\n",
        "\n",
        "# Random Forest\n",
        "rf_clf = RandomForestClassifier()\n",
        "rf_clf.fit(X_train, y_train)\n",
        "y_pred_rf = rf_clf.predict(X_test)\n",
        "\n",
        "# Evaluation\n",
        "print(\"Random Forest\")\n",
        "print(\"Accuracy:\", accuracy_score(y_test, y_pred_rf))\n",
        "print(\"Precision:\", precision_score(y_test, y_pred_rf))\n",
        "print(\"Recall:\", recall_score(y_test, y_pred_rf))\n",
        "print(\"F1 Score:\", f1_score(y_test, y_pred_rf))\n",
        "print(\"ROC AUC Score:\", roc_auc_score(y_test, rf_clf.predict_proba(X_test)[:, 1]))\n",
        "\n",
        "from sklearn.ensemble import GradientBoostingClassifier\n",
        "\n",
        "# Gradient Boosting\n",
        "gb_clf = GradientBoostingClassifier()\n",
        "gb_clf.fit(X_train, y_train)\n",
        "y_pred_gb = gb_clf.predict(X_test)\n",
        "\n",
        "# Evaluation\n",
        "print(\"Gradient Boosting\")\n",
        "print(\"Accuracy:\", accuracy_score(y_test, y_pred_gb))\n",
        "print(\"Precision:\", precision_score(y_test, y_pred_gb))\n",
        "print(\"Recall:\", recall_score(y_test, y_pred_gb))\n",
        "print(\"F1 Score:\", f1_score(y_test, y_pred_gb))\n",
        "print(\"ROC AUC Score:\", roc_auc_score(y_test, gb_clf.predict_proba(X_test)[:, 1]))\n",
        "\n",
        "from sklearn.metrics import classification_report, confusion_matrix\n",
        "\n",
        "# Print Classification Report and Confusion Matrix for the best model (e.g., Gradient Boosting)\n",
        "print(\"Classification Report:\\n\", classification_report(y_test, y_pred_gb))\n",
        "print(\"Confusion Matrix:\\n\", confusion_matrix(y_test, y_pred_gb))\n",
        "\n"
      ]
    }
  ]
}